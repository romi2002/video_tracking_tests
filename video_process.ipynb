{
 "cells": [
  {
   "cell_type": "code",
   "execution_count": 2,
   "id": "b7e711e1-ff69-4b7f-a733-5c1f296f905a",
   "metadata": {},
   "outputs": [],
   "source": [
    "import cv2 as cv\n",
    "import numpy as np\n",
    "from IPython.display import Image, display\n",
    "import math\n",
    "from numpy.linalg import norm\n",
    "import random\n",
    "import PIL.Image\n",
    "import io\n",
    "import json\n",
    "import pickle\n",
    "def showarray(a, fmt='jpeg'):\n",
    "    a = np.uint8(np.clip(a, 0, 255))\n",
    "    f = io.BytesIO()\n",
    "    PIL.Image.fromarray(a).save(f, fmt)\n",
    "    display(Image(data=f.getvalue()))\n",
    "from skspatial.objects import Line\n",
    "from sklearn.cluster import MeanShift, estimate_bandwidth"
   ]
  },
  {
   "cell_type": "code",
   "execution_count": 59,
   "id": "fec35045-079f-471a-bfac-3e7f6097d6ca",
   "metadata": {},
   "outputs": [],
   "source": [
    "def check_intersection(line1, line2):\n",
    "    line1_sk = Line.from_points(line1[:2], line1[2:])\n",
    "    line2_sk = Line.from_points(line2[:2], line2[2:])\n",
    "\n",
    "    try:\n",
    "        intersect = line1_sk.intersect_line(line2_sk)\n",
    "    except ValueError:\n",
    "        return False, None\n",
    "\n",
    "    return True, intersect\n",
    "\n",
    "def cos_similarity(line1, line2):\n",
    "    A = np.array(line1[:2] - line1[2:])\n",
    "    B = np.array(line2[:2] - line2[2:])\n",
    "    return np.dot(A,B)/(norm(A) * norm(B))\n",
    "\n",
    "def find_grid_points(frame):\n",
    "    # Canny edge and hough lines\n",
    "    edges = cv.Canny(frame,50,250)\n",
    "    edges = cv.dilate(edges.astype('uint8'), np.ones((2,2), np.uint8), iterations=3)\n",
    "\n",
    "    lines = cv.HoughLinesP(edges, 2, math.radians(0.1), 400, minLineLength=200, maxLineGap=20)\n",
    "    if lines is None:\n",
    "        return [], frame\n",
    "    for line in lines:\n",
    "        x1,y1,x2,y2 = line[0]\n",
    "        cv.line(frame,(x1,y1),(x2,y2),(0,255,0),2)\n",
    "\n",
    "    # Find points intersecting with line\n",
    "    points = []\n",
    "    for i,l1 in enumerate(lines):\n",
    "        for j,l2 in enumerate(lines):\n",
    "            if i == j:\n",
    "                continue\n",
    "    \n",
    "            similarity = cos_similarity(l1[0], l2[0])\n",
    "            #print(l1[0][2])\n",
    "            has_intersect, point = check_intersection(l1[0].astype(float), l2[0].astype(float))\n",
    "            if has_intersect and similarity < 0.6:\n",
    "                oob = np.any(point > frame.shape[:2]) | np.any(point < 0)\n",
    "                if not oob:\n",
    "                    points.append(point)\n",
    "\n",
    "    for point in points:\n",
    "        cv.circle(frame, center=(point[0].astype('uint32'), point[1].astype('uint32')), radius=2, color=(255,0,0))\n",
    "\n",
    "    if len(points) == 0:\n",
    "        return [], frame\n",
    "    bandwidth = estimate_bandwidth(points, quantile=0.025, n_samples=50000)\n",
    "    if bandwidth == 0:\n",
    "        return [], frame\n",
    "    clustering = MeanShift(bandwidth=bandwidth).fit(points)\n",
    "    centers = clustering.cluster_centers_\n",
    "    cluster_frame = frame.copy()\n",
    "    for i, point in enumerate(centers):\n",
    "        location = (point[0].astype('uint32'), point[1].astype('uint32'))\n",
    "        cv.circle(frame, center=location, thickness=-1, radius=6, color=(0,100,255))\n",
    "        frame = cv.putText(frame, f\"{i}\", location, cv.FONT_HERSHEY_SIMPLEX, 0.75, (255,20,255), 2, cv.LINE_AA)\n",
    "\n",
    "    return centers, frame"
   ]
  },
  {
   "cell_type": "code",
   "execution_count": 3,
   "id": "3654b192-71d8-4f7e-80c8-5f86d8abcbfe",
   "metadata": {},
   "outputs": [],
   "source": [
    "# Read all of video into a large list (bye bye memory)\n",
    "cap = cv.VideoCapture(\"patitos.mp4\")\n",
    "\n",
    "ret, frame = cap.read()\n",
    "frames = []\n",
    "\n",
    "while True:\n",
    "    ret, frame = cap.read()\n",
    "    if not ret:\n",
    "        break\n",
    "\n",
    "    frames.append(frame)"
   ]
  },
  {
   "cell_type": "code",
   "execution_count": 4,
   "id": "fab86884-abf3-4e47-8821-a698a46f64c9",
   "metadata": {},
   "outputs": [
    {
     "data": {
      "text/plain": [
       "2082"
      ]
     },
     "execution_count": 4,
     "metadata": {},
     "output_type": "execute_result"
    }
   ],
   "source": [
    "len(frames)"
   ]
  },
  {
   "cell_type": "code",
   "execution_count": 60,
   "id": "002a1e59-2c0f-4528-a77d-b4524d7bb141",
   "metadata": {},
   "outputs": [],
   "source": [
    "# Draw samples\n",
    "n_frames = 50\n",
    "samples = random.choices(frames, k=n_frames)\n",
    "\n",
    "# Export samples and json file with data\n",
    "centers, annotated_frames = [], []\n",
    "for s in samples:\n",
    "    c, a_f = find_grid_points(s)\n",
    "    centers.append(c)\n",
    "    annotated_frames.append(a_f)\n",
    "\n",
    "path = \"camera_calibration\"\n",
    "# Export annotated frames to folder\n",
    "for i,frame in enumerate(annotated_frames):\n",
    "    cv.imwrite(f\"{path}/{i}.jpg\", frame)\n",
    "\n",
    "data_out = []\n",
    "point_data = []\n",
    "for i,c in enumerate(centers):\n",
    "    data_out.append({\n",
    "        \"frame_id\": i,\n",
    "        \"centers\": c,\n",
    "    })\n",
    "\n",
    "    point_data.append({\n",
    "        \"frame_id\": i,\n",
    "        \"points\": [0],\n",
    "        \"n_rows\": 0,\n",
    "        \"n_cols\" : 0})\n",
    "\n",
    "json_obj = json.dumps(point_data, indent=2)\n",
    "with open(f\"{path}/point_data.json\", \"w\") as outfile:\n",
    "    outfile.write(json_obj)\n",
    "\n",
    "center_obj = pickle.dumps(data_out)\n",
    "with open(f\"{path}/center.pkl\", \"wb\") as outfile:\n",
    "    outfile.write(center_obj)\n"
   ]
  },
  {
   "cell_type": "code",
   "execution_count": 48,
   "id": "4ed71787-9315-45d8-b750-8d49de897a63",
   "metadata": {},
   "outputs": [
    {
     "data": {
      "text/plain": [
       "(480, 848, 3)"
      ]
     },
     "execution_count": 48,
     "metadata": {},
     "output_type": "execute_result"
    }
   ],
   "source": [
    "frame.shape"
   ]
  },
  {
   "cell_type": "code",
   "execution_count": 28,
   "id": "adb8227a-b612-44ba-815f-7839f1a11a9d",
   "metadata": {},
   "outputs": [],
   "source": [
    "cap = cv.VideoCapture(\"patitos.mp4\")\n",
    "\n",
    "ret, frame = cap.read()\n",
    "frame_width = int(cap.get(3))\n",
    "frame_height = int(cap.get(4))\n",
    "\n",
    "video = cv.VideoWriter('outpy.avi',cv.VideoWriter_fourcc('M','J','P','G'), 10, (frame_width,frame_height))\n",
    "\n",
    "frame_count = 0\n",
    "while True:\n",
    "    frame_count += 1\n",
    "    ret, frame = cap.read()\n",
    "    #print(frame_count)\n",
    "    if not ret or frame_count > 500:\n",
    "        break\n",
    "    centers, frame = find_grid_points(frame)\n",
    "    video.write(frame)\n",
    "\n",
    "video.release()"
   ]
  },
  {
   "cell_type": "code",
   "execution_count": 14,
   "id": "253e630a-2ca1-4274-b9e7-93cc6c361929",
   "metadata": {},
   "outputs": [
    {
     "data": {
      "text/plain": [
       "(480, 848)"
      ]
     },
     "execution_count": 14,
     "metadata": {},
     "output_type": "execute_result"
    }
   ],
   "source": [
    "frame.shape[:2]"
   ]
  }
 ],
 "metadata": {
  "kernelspec": {
   "display_name": "Python 3 (ipykernel)",
   "language": "python",
   "name": "python3"
  },
  "language_info": {
   "codemirror_mode": {
    "name": "ipython",
    "version": 3
   },
   "file_extension": ".py",
   "mimetype": "text/x-python",
   "name": "python",
   "nbconvert_exporter": "python",
   "pygments_lexer": "ipython3",
   "version": "3.11.3"
  }
 },
 "nbformat": 4,
 "nbformat_minor": 5
}
